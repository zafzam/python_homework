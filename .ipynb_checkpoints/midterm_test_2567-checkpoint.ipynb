{
 "cells": [
  {
   "cell_type": "markdown",
   "id": "b4cd3c02-e219-467d-adec-0d0a11d9e29e",
   "metadata": {},
   "source": [
    "# แบบทดสอบวัดความรู้การเขียนโปรแกรมด้วยภาษาไพธอน"
   ]
  },
  {
   "cell_type": "markdown",
   "id": "2948a9b0-c1d7-4eb5-8838-176acb70778c",
   "metadata": {},
   "source": [
    "### ประจำปีการศึกษา 2/2567\n",
    "### ผู้สอนโดย ผู้ช่วยศาสตราจารย์พิศาล สุขขี"
   ]
  },
  {
   "cell_type": "markdown",
   "id": "52214a89-8cc2-4989-a334-22c91d155e91",
   "metadata": {},
   "source": [
    "ชื่อ นาย พงษ์พิสุทธิ์ นามสกุล บัวหอม รหัสนักศึกษา 6712732111"
   ]
  },
  {
   "cell_type": "markdown",
   "id": "be66bdec-8ff3-48b3-8f81-16887b231bf6",
   "metadata": {},
   "source": [
    "### จงแทนนิพจน์ทางคณิตศาสตร์เหล่านี้้ด้วยภาษาไพทอน"
   ]
  },
  {
   "cell_type": "markdown",
   "id": "f52fc4e7-4075-4953-af9b-23cb0761aa42",
   "metadata": {},
   "source": [
    "**ข้อที่ 1.** $ 7 \\times \\frac{5 + 6}{7 + \\frac{7}{8}} $"
   ]
  },
  {
   "cell_type": "code",
   "execution_count": 3,
   "id": "ae684192-9514-4bc3-adf4-f2527542b446",
   "metadata": {},
   "outputs": [
    {
     "name": "stdout",
     "output_type": "stream",
     "text": [
      "4.358898943540674\n"
     ]
    }
   ],
   "source": [
    "answerNo1 = 7* (5+6)/(7+(7/8))\n",
    "print(answer)\n"
   ]
  },
  {
   "cell_type": "markdown",
   "id": "ad7eab25-da54-49b4-8b7e-4e008c957f2c",
   "metadata": {},
   "source": [
    "<hr>"
   ]
  },
  {
   "cell_type": "markdown",
   "id": "bf31fe17-6a86-4b14-b1a4-119e656994d3",
   "metadata": {},
   "source": [
    "**ข้อที่ 2** $ \\sqrt[2]{\\left( 7 + 3 \\times 4 \\right)} $"
   ]
  },
  {
   "cell_type": "code",
   "execution_count": 2,
   "id": "f8e9bb53-b34a-4897-b01b-2c62e7191229",
   "metadata": {},
   "outputs": [
    {
     "name": "stdout",
     "output_type": "stream",
     "text": [
      "4.358898943540674\n"
     ]
    }
   ],
   "source": [
    "answerNo2 = (7+3*4)**(1/2)\n",
    "\n",
    "print(answerNo2)\n"
   ]
  },
  {
   "cell_type": "markdown",
   "id": "1e60345a-875c-460a-87d1-7659462f3919",
   "metadata": {},
   "source": [
    "<hr>"
   ]
  },
  {
   "cell_type": "markdown",
   "id": "7fd2caaa-e462-4ff5-ad81-dc761fc31caa",
   "metadata": {},
   "source": [
    "**ข้อที่ 3** $ \\frac{5 + 6^{2.5}}{\\sqrt[2]{3.5}} + 3^2 $"
   ]
  },
  {
   "cell_type": "code",
   "execution_count": 4,
   "id": "e4cf0da4-4b79-45e9-887b-3ddeef89a876",
   "metadata": {},
   "outputs": [
    {
     "name": "stdout",
     "output_type": "stream",
     "text": [
      "58.8076767100986\n"
     ]
    }
   ],
   "source": [
    "answerNo3 = (5+(6**2.5))/(3.5**(1/2))+(3**2)\n",
    "\n",
    "print(answerNo3)\n",
    "\n",
    "\n"
   ]
  },
  {
   "cell_type": "markdown",
   "id": "7380cd6f-cdfd-4373-a313-f1d548c90893",
   "metadata": {},
   "source": [
    "<hr>"
   ]
  },
  {
   "cell_type": "markdown",
   "id": "e07fd3e9-2c77-41bc-8c89-a475cc25380c",
   "metadata": {},
   "source": [
    "## แบบทดสอบวัดความรู้เรื่องชนิดข้อมูล"
   ]
  },
  {
   "cell_type": "markdown",
   "id": "5ed88a95-692d-4097-9124-0b882a274e89",
   "metadata": {},
   "source": [
    "**ข้อที่ 4** กำหนดให้ my_list = [1, 2, 3, 4, 5] \n",
    "\n",
    "จงเพิ่มค่าให้สมาชิกทุกตัวของลิสต์ในตัวแปร my_list อย่างละ 5 ด้วยเครื่องหมาย + และพิมพ์ตัวแปร my_list ออกหน้าจอ"
   ]
  },
  {
   "cell_type": "code",
   "execution_count": 20,
   "id": "4b3cdf62-47dd-432c-94d8-920877ed601f",
   "metadata": {},
   "outputs": [
    {
     "name": "stdout",
     "output_type": "stream",
     "text": [
      "[6, 7, 8, 9, 10]\n"
     ]
    }
   ],
   "source": [
    "\n",
    "\n",
    "my_list = [1, 2, 3, 4, 5]\n",
    "\n",
    "my_list = [x + 5 for x in my_list]\n",
    "\n",
    "print(my_list)\n"
   ]
  },
  {
   "cell_type": "markdown",
   "id": "04c4827d-d43b-46b6-b3f6-6bc1ca41d456",
   "metadata": {},
   "source": [
    "<hr>"
   ]
  },
  {
   "cell_type": "markdown",
   "id": "081469f7-a509-4adf-ab7e-99c1a8911544",
   "metadata": {},
   "source": [
    "**กำหนดให้ my_list = [10, 20, 30, 40, 50, 60, 70, 80, 90, 100]**"
   ]
  },
  {
   "cell_type": "markdown",
   "id": "bb579639-1d63-4d2a-9b74-b813d8b98986",
   "metadata": {},
   "source": [
    "**ข้อที่ 5** จงเลือกสมาชิกตัวที่ 3 จนถึงตัวที่ 7"
   ]
  },
  {
   "cell_type": "code",
   "execution_count": 8,
   "id": "e281249d-7687-479e-a122-f4d0fed7240f",
   "metadata": {},
   "outputs": [
    {
     "name": "stdout",
     "output_type": "stream",
     "text": [
      "[40, 50, 60, 70]\n"
     ]
    }
   ],
   "source": [
    "my_list = [10, 20, 30, 40, 50, 60, 70, 80, 90, 100]\n",
    "\n",
    "print(my_list[3:7])"
   ]
  },
  {
   "cell_type": "markdown",
   "id": "c06cf69b-9947-4140-8732-a6dc514e3361",
   "metadata": {},
   "source": [
    "<hr>"
   ]
  },
  {
   "cell_type": "markdown",
   "id": "a50dbda6-a551-49e6-a784-6062c60de14f",
   "metadata": {},
   "source": [
    "**ข้อที่ 6** จงเลือกสมาชิกตัวที่ 2 จนถึงตัวที่ 5"
   ]
  },
  {
   "cell_type": "code",
   "execution_count": 9,
   "id": "4fd57dc3-5498-48ec-a80f-e5be91ce4640",
   "metadata": {},
   "outputs": [
    {
     "name": "stdout",
     "output_type": "stream",
     "text": [
      "[30, 40, 50]\n"
     ]
    }
   ],
   "source": [
    "print(my_list[2:5])\n",
    "\n"
   ]
  },
  {
   "cell_type": "markdown",
   "id": "0a2fd1c3-239f-48f5-92f5-80d2e19b0d45",
   "metadata": {},
   "source": [
    "<hr>"
   ]
  },
  {
   "cell_type": "markdown",
   "id": "67828813-a498-4478-956e-845b1f62ed4c",
   "metadata": {},
   "source": [
    "**ข้อที่ 7** จงเลือกสมาชิกตั้งแต่ตัวแรกจนถึงตัวที่ 8"
   ]
  },
  {
   "cell_type": "code",
   "execution_count": 11,
   "id": "129d32c4-7b44-435e-a92b-23e5feac1859",
   "metadata": {},
   "outputs": [
    {
     "name": "stdout",
     "output_type": "stream",
     "text": [
      "[1, 2, 3, 4, 5]\n"
     ]
    }
   ],
   "source": [
    "print(my_list[0:8])\n",
    "\n"
   ]
  },
  {
   "cell_type": "markdown",
   "id": "79855b21-4fe5-4782-a539-d6dee869df79",
   "metadata": {},
   "source": [
    "<hr>"
   ]
  },
  {
   "cell_type": "markdown",
   "id": "e55c59d1-fe52-409e-a94a-69da2d908435",
   "metadata": {},
   "source": [
    "### แบบทดสอบวัดความรู้เรื่อง โครงสร้างควบคุม"
   ]
  },
  {
   "cell_type": "markdown",
   "id": "3ba6d469-0fc6-4be2-ae54-e9a27ddff5ad",
   "metadata": {},
   "source": [
    "**ข้อที่ 8** จงวนลูปเพื่อแสดงสูตรคูณแม่ 3 ไล่ตั้งแต่  3×1  จนถึง  3×12  โดยจะได้ผลลัพธ์ดังนี้"
   ]
  },
  {
   "cell_type": "raw",
   "id": "e1006360-f7c1-4c05-911a-bf224af4e1c6",
   "metadata": {},
   "source": [
    "3 * 1 = 3\n",
    "3 * 2 = 6\n",
    "3 * 3 = 9\n",
    ":\n",
    ":\n",
    ":\n",
    "3 * 12 = 36"
   ]
  },
  {
   "cell_type": "code",
   "execution_count": 5,
   "id": "0cb5d448-e014-4b0a-902f-b49d43bddae7",
   "metadata": {},
   "outputs": [
    {
     "name": "stdout",
     "output_type": "stream",
     "text": [
      "3 * 1 = 3\n",
      "3 * 2 = 6\n",
      "3 * 3 = 9\n",
      "3 * 4 = 12\n",
      "3 * 5 = 15\n",
      "3 * 6 = 18\n",
      "3 * 7 = 21\n",
      "3 * 8 = 24\n",
      "3 * 9 = 27\n",
      "3 * 10 = 30\n",
      "3 * 11 = 33\n",
      "3 * 12 = 36\n"
     ]
    }
   ],
   "source": [
    "# วนลูปค่า index i จาก 1 ถึง 12\n",
    "\n",
    "\n",
    "for i in range(1, 13):\n",
    "    print(f\"3 * {i} = {3 * i}\")\n",
    "\n"
   ]
  },
  {
   "cell_type": "markdown",
   "id": "9d459c25-7c17-4977-8d05-261ebadb2248",
   "metadata": {},
   "source": [
    "<hr>"
   ]
  },
  {
   "cell_type": "markdown",
   "id": "46c978fe-6fa5-4fdf-bf3c-aacf1220c120",
   "metadata": {},
   "source": [
    "**ข้อที่ 9** จงเขียนโปรแกรมเพื่อไล่แม่สูตรคูณจากแม่ 11 ถึงแม่ 15 โดยแต่ละแม่จะคูณกับตัวเลขตั้งแต่ 1 จนถึง 12"
   ]
  },
  {
   "cell_type": "code",
   "execution_count": 4,
   "id": "6dae5b1e-e315-4c27-b136-6334a99f908a",
   "metadata": {},
   "outputs": [
    {
     "name": "stdout",
     "output_type": "stream",
     "text": [
      "Mom 11\n",
      "11 X 1 = 11\n",
      "11 X 2 = 22\n",
      "11 X 3 = 33\n",
      "11 X 4 = 44\n",
      "11 X 5 = 55\n",
      "11 X 6 = 66\n",
      "11 X 7 = 77\n",
      "11 X 8 = 88\n",
      "11 X 9 = 99\n",
      "11 X 10 = 110\n",
      "11 X 11 = 121\n",
      "11 X 12 = 132\n",
      "--------------------\n",
      "Mom 12\n",
      "12 X 1 = 12\n",
      "12 X 2 = 24\n",
      "12 X 3 = 36\n",
      "12 X 4 = 48\n",
      "12 X 5 = 60\n",
      "12 X 6 = 72\n",
      "12 X 7 = 84\n",
      "12 X 8 = 96\n",
      "12 X 9 = 108\n",
      "12 X 10 = 120\n",
      "12 X 11 = 132\n",
      "12 X 12 = 144\n",
      "--------------------\n",
      "Mom 13\n",
      "13 X 1 = 13\n",
      "13 X 2 = 26\n",
      "13 X 3 = 39\n",
      "13 X 4 = 52\n",
      "13 X 5 = 65\n",
      "13 X 6 = 78\n",
      "13 X 7 = 91\n",
      "13 X 8 = 104\n",
      "13 X 9 = 117\n",
      "13 X 10 = 130\n",
      "13 X 11 = 143\n",
      "13 X 12 = 156\n",
      "--------------------\n",
      "Mom 14\n",
      "14 X 1 = 14\n",
      "14 X 2 = 28\n",
      "14 X 3 = 42\n",
      "14 X 4 = 56\n",
      "14 X 5 = 70\n",
      "14 X 6 = 84\n",
      "14 X 7 = 98\n",
      "14 X 8 = 112\n",
      "14 X 9 = 126\n",
      "14 X 10 = 140\n",
      "14 X 11 = 154\n",
      "14 X 12 = 168\n",
      "--------------------\n",
      "Mom 15\n",
      "15 X 1 = 15\n",
      "15 X 2 = 30\n",
      "15 X 3 = 45\n",
      "15 X 4 = 60\n",
      "15 X 5 = 75\n",
      "15 X 6 = 90\n",
      "15 X 7 = 105\n",
      "15 X 8 = 120\n",
      "15 X 9 = 135\n",
      "15 X 10 = 150\n",
      "15 X 11 = 165\n",
      "15 X 12 = 180\n",
      "--------------------\n"
     ]
    }
   ],
   "source": [
    "# วนลูป index m เพื่อไล่แม่สูตรคูณจากแม่ 11 ถึงแม่ 15\n",
    "\n",
    "\n",
    "for i in range(11, 16):  \n",
    "    print(f\"Mom {i}\")\n",
    "    for j in range(1, 13):\n",
    "        print(f\"{i} X {j} = {i * j}\")\n",
    "    print(\"-\" * 20) \n"
   ]
  },
  {
   "cell_type": "markdown",
   "id": "944d0114-976b-4e32-8ae8-f6b9c81953ca",
   "metadata": {},
   "source": [
    "<hr>"
   ]
  },
  {
   "cell_type": "markdown",
   "id": "55ee2850-c0d9-4a78-83fc-55f7f55f783b",
   "metadata": {},
   "source": [
    "**ข้อที่ 10** จงเขียนโปรแกรมเพื่อให้ได้ผลลัพธ์ดังต่อไปนี้"
   ]
  },
  {
   "cell_type": "markdown",
   "id": "c99a3635-0310-4b83-8306-86e03265e7cc",
   "metadata": {},
   "source": [
    "จงเขียนฟังก์ชันที่ทำหน้าที่กลับสตริงจากหน้าเป็นหลัง \n",
    "\n",
    "โดยมีการส่งอาร์กิวเมนต์ที่เป็นสติงไปให้ฟังก์ชันทำงาน เช่น"
   ]
  },
  {
   "cell_type": "code",
   "execution_count": null,
   "id": "29d46902-f6f1-40fb-ba1f-1ba3ea104d95",
   "metadata": {},
   "outputs": [],
   "source": [
    "\"\"\"\n",
    "Argument String: \"1234abcd\"\n",
    "Expected Output: \"dcba4321\"\n",
    "\"\"\""
   ]
  },
  {
   "cell_type": "code",
   "execution_count": 6,
   "id": "4a931ad9-f8e8-4643-b127-01194b81f0a6",
   "metadata": {},
   "outputs": [
    {
     "name": "stdout",
     "output_type": "stream",
     "text": [
      "Argument String: \"1234abcd\"\n",
      "Expected Output: \"dcba4321\"\n"
     ]
    }
   ],
   "source": [
    "\n",
    "def reverse_string(input_string):\n",
    "    return input_string[::-1]\n",
    "\n",
    "argument_string = \"1234abcd\"\n",
    "output = reverse_string(argument_string)\n",
    "print(f\"Argument String: \\\"{argument_string}\\\"\")\n",
    "print(f\"Expected Output: \\\"{output}\\\"\")\n",
    "\n"
   ]
  },
  {
   "cell_type": "markdown",
   "id": "9959fdd7-5ea8-493a-a4d5-263fd067834e",
   "metadata": {},
   "source": [
    "<hr>"
   ]
  },
  {
   "cell_type": "markdown",
   "id": "55e4c0f5-4d9e-4f04-81b7-f86a816562a2",
   "metadata": {},
   "source": [
    "**ข้่อที่ 11** กำหนดให้\n",
    "\n",
    "str = \"Python Programming\"\n",
    "\n",
    "จงเขียนโปรแกรมที่แสดงผลเฉพาะคำว่า Programming จาก str"
   ]
  },
  {
   "cell_type": "code",
   "execution_count": 31,
   "id": "42c24d42-f4ad-475c-87ca-a30640696a62",
   "metadata": {},
   "outputs": [
    {
     "name": "stdout",
     "output_type": "stream",
     "text": [
      "Programming\n"
     ]
    }
   ],
   "source": [
    "str = \"Python Programming\"\n",
    "\n",
    "print(str[7:])\n",
    "\n"
   ]
  },
  {
   "cell_type": "markdown",
   "id": "bb011ab0-a672-4fd8-af97-a39d341a57cb",
   "metadata": {},
   "source": [
    "<hr>"
   ]
  },
  {
   "cell_type": "markdown",
   "id": "3ccd220e-b02d-4324-8a13-9a360ce1bdb0",
   "metadata": {},
   "source": [
    "**ข้อที่ 12** ให้ทำการแสดงเลขคู่ทั้งหมดที่อยู่ในช่วง 1 - 100"
   ]
  },
  {
   "cell_type": "code",
   "execution_count": 14,
   "id": "b27af344-cb7b-4464-bba1-817e71de8ff1",
   "metadata": {},
   "outputs": [
    {
     "name": "stdout",
     "output_type": "stream",
     "text": [
      "2\n",
      "4\n",
      "6\n",
      "8\n",
      "10\n",
      "12\n",
      "14\n",
      "16\n",
      "18\n",
      "20\n",
      "22\n",
      "24\n",
      "26\n",
      "28\n",
      "30\n",
      "32\n",
      "34\n",
      "36\n",
      "38\n",
      "40\n",
      "42\n",
      "44\n",
      "46\n",
      "48\n",
      "50\n",
      "52\n",
      "54\n",
      "56\n",
      "58\n",
      "60\n",
      "62\n",
      "64\n",
      "66\n",
      "68\n",
      "70\n",
      "72\n",
      "74\n",
      "76\n",
      "78\n",
      "80\n",
      "82\n",
      "84\n",
      "86\n",
      "88\n",
      "90\n",
      "92\n",
      "94\n",
      "96\n",
      "98\n",
      "100\n"
     ]
    }
   ],
   "source": [
    "for number in range(1, 101):\n",
    "    if number % 2 == 0:\n",
    "        print(number)\n",
    "\n"
   ]
  },
  {
   "cell_type": "markdown",
   "id": "1b5c99ad-29d4-4587-ae27-e7d64c8c3f08",
   "metadata": {},
   "source": [
    "<hr>"
   ]
  },
  {
   "cell_type": "markdown",
   "id": "12043275-7256-4a53-8722-b3573b5301e8",
   "metadata": {},
   "source": [
    "**ข้อที่ 13** ให้เขียนโปรแกรม เพื่อรับจำนวนหรือตัวเลขเข้ามาจากคีย์บอร์ด และตรวจสอบว่าจำนวนที่รับเข้ามานั้นมีค่าต่ำกว่า 100 หรือไม่ "
   ]
  },
  {
   "cell_type": "code",
   "execution_count": 50,
   "id": "d0e2279f-340d-461c-b5d8-5bdaa1f9661f",
   "metadata": {},
   "outputs": [
    {
     "name": "stdin",
     "output_type": "stream",
     "text": [
      " 22\n"
     ]
    },
    {
     "name": "stdout",
     "output_type": "stream",
     "text": [
      "Yes King 22\n"
     ]
    }
   ],
   "source": [
    "# คำตอบ\n",
    "\n",
    "Key = int(input())\n",
    "if Key <= 100 :\n",
    "          print(\"Yes King\", Key)\n",
    "else:\n",
    "         print(\"Nope\")\n",
    "\n"
   ]
  },
  {
   "cell_type": "markdown",
   "id": "313cfeb9-3413-4a11-a2da-c201785b064c",
   "metadata": {},
   "source": [
    "<hr />"
   ]
  },
  {
   "cell_type": "markdown",
   "id": "ebe25b48-312b-4513-84c8-d90acc72cc14",
   "metadata": {},
   "source": [
    "**ข้อที่ 14** ให้เขียนโปรแกรม เพื่อคำนวนหาผลรวมของตัวเลขในช่วง 1 ถึง 100"
   ]
  },
  {
   "cell_type": "code",
   "execution_count": 49,
   "id": "f49ea3e1-2226-4373-94d7-a45735b127df",
   "metadata": {},
   "outputs": [
    {
     "name": "stdout",
     "output_type": "stream",
     "text": [
      "Dop Dop 5050\n"
     ]
    }
   ],
   "source": [
    "skibidi = list(range(1, 101))\n",
    "sum = 0\n",
    "for val in skibidi:\n",
    "\tsum = sum + val\n",
    "print(\"Dop Dop\", sum)\n"
   ]
  },
  {
   "cell_type": "markdown",
   "id": "22f81c78-bc0e-48d7-84e2-4e58e6aff8a5",
   "metadata": {},
   "source": [
    "<hr>"
   ]
  },
  {
   "cell_type": "markdown",
   "id": "76ab1c2e-4564-4994-a3ff-ec874fe0ea46",
   "metadata": {},
   "source": [
    "**ข้อที่ 15** ให้เขียนโปรแกรม เพื่อแสดงเลขคี่ ของตัวเลขในช่วง 1 ถึง 100"
   ]
  },
  {
   "cell_type": "code",
   "execution_count": 32,
   "id": "bed94210-1f07-4e10-b31c-09913b54d967",
   "metadata": {},
   "outputs": [
    {
     "name": "stdout",
     "output_type": "stream",
     "text": [
      "1\n",
      "3\n",
      "5\n",
      "7\n",
      "9\n",
      "11\n",
      "13\n",
      "15\n",
      "17\n",
      "19\n",
      "21\n",
      "23\n",
      "25\n",
      "27\n",
      "29\n",
      "31\n",
      "33\n",
      "35\n",
      "37\n",
      "39\n",
      "41\n",
      "43\n",
      "45\n",
      "47\n",
      "49\n",
      "51\n",
      "53\n",
      "55\n",
      "57\n",
      "59\n",
      "61\n",
      "63\n",
      "65\n",
      "67\n",
      "69\n",
      "71\n",
      "73\n",
      "75\n",
      "77\n",
      "79\n",
      "81\n",
      "83\n",
      "85\n",
      "87\n",
      "89\n",
      "91\n",
      "93\n",
      "95\n",
      "97\n",
      "99\n"
     ]
    }
   ],
   "source": [
    "for number in range(1, 101):\n",
    "    if number % 2 == 1:\n",
    "        print(number)\n",
    "\n"
   ]
  },
  {
   "cell_type": "code",
   "execution_count": null,
   "id": "3effb64c-545f-4908-a394-8f5638ddcf33",
   "metadata": {},
   "outputs": [],
   "source": []
  }
 ],
 "metadata": {
  "kernelspec": {
   "display_name": "Python 3 (ipykernel)",
   "language": "python",
   "name": "python3"
  },
  "language_info": {
   "codemirror_mode": {
    "name": "ipython",
    "version": 3
   },
   "file_extension": ".py",
   "mimetype": "text/x-python",
   "name": "python",
   "nbconvert_exporter": "python",
   "pygments_lexer": "ipython3",
   "version": "3.13.0"
  }
 },
 "nbformat": 4,
 "nbformat_minor": 5
}

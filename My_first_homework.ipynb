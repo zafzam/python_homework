{
 "cells": [
  {
   "cell_type": "markdown",
   "id": "e833b44a-20c0-4049-b05c-12342841f80b",
   "metadata": {},
   "source": [
    "นาย พงษ์พิสุทธิ์ บัวหอม\n",
    "\n",
    "6712732111"
   ]
  },
  {
   "cell_type": "code",
   "execution_count": 1,
   "id": "a4385582-7d26-4a7e-8a85-65400f0847af",
   "metadata": {},
   "outputs": [
    {
     "name": "stdout",
     "output_type": "stream",
     "text": [
      "Hello, world\n"
     ]
    }
   ],
   "source": [
    "print(\"Hello, world\")"
   ]
  },
  {
   "cell_type": "code",
   "execution_count": null,
   "id": "6007ab58-1cc2-4644-a066-4a3518b1794b",
   "metadata": {},
   "outputs": [],
   "source": []
  }
 ],
 "metadata": {
  "kernelspec": {
   "display_name": "Python 3 (ipykernel)",
   "language": "python",
   "name": "python3"
  },
  "language_info": {
   "codemirror_mode": {
    "name": "ipython",
    "version": 3
   },
   "file_extension": ".py",
   "mimetype": "text/x-python",
   "name": "python",
   "nbconvert_exporter": "python",
   "pygments_lexer": "ipython3",
   "version": "3.13.0"
  }
 },
 "nbformat": 4,
 "nbformat_minor": 5
}

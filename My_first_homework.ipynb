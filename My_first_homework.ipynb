{
 "cells": [
  {
   "cell_type": "markdown",
   "id": "e833b44a-20c0-4049-b05c-12342841f80b",
   "metadata": {},
   "source": [
    "นาย พงษ์พิสุทธิ์ บัวหอม\n",
    "\n",
    "6712732111"
   ]
  }
 ],
 "metadata": {
  "kernelspec": {
   "display_name": "Python 3 (ipykernel)",
   "language": "python",
   "name": "python3"
  },
  "language_info": {
   "codemirror_mode": {
    "name": "ipython",
    "version": 3
   },
   "file_extension": ".py",
   "mimetype": "text/x-python",
   "name": "python",
   "nbconvert_exporter": "python",
   "pygments_lexer": "ipython3",
   "version": "3.13.0"
  }
 },
 "nbformat": 4,
 "nbformat_minor": 5
}

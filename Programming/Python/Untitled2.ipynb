{
 "cells": [
  {
   "cell_type": "code",
   "execution_count": 4,
   "id": "ee2b6f38-dbb0-4569-ad0d-898c317f3353",
   "metadata": {},
   "outputs": [],
   "source": [
    "class Calculator():\n",
    "    def __init__(self):\n",
    "        pass\n",
    "    def add(self, x, y):\n",
    "        return x + y\n",
    "    def sub(self, x, y):\n",
    "        return x - y\n",
    "    def div(self, x, y):\n",
    "        return x / y\n",
    "    def mul(self, x, y):\n",
    "        return x * y"
   ]
  },
  {
   "cell_type": "code",
   "execution_count": null,
   "id": "cb08d476-0b7a-4fac-b07c-8d991e680659",
   "metadata": {},
   "outputs": [],
   "source": []
  },
  {
   "cell_type": "code",
   "execution_count": 5,
   "id": "3b64d411-4833-417f-a0a3-23e62b6d7a85",
   "metadata": {},
   "outputs": [],
   "source": [
    "cal = Calculator()"
   ]
  },
  {
   "cell_type": "code",
   "execution_count": 6,
   "id": "af8e2a21-03e8-42d1-92df-f5412fa6cd28",
   "metadata": {},
   "outputs": [
    {
     "data": {
      "text/plain": [
       "4"
      ]
     },
     "execution_count": 6,
     "metadata": {},
     "output_type": "execute_result"
    }
   ],
   "source": [
    "cal.add(1, 3)"
   ]
  },
  {
   "cell_type": "code",
   "execution_count": 17,
   "id": "196e3b35-8119-4501-9b50-608384ef3288",
   "metadata": {},
   "outputs": [],
   "source": [
    "class ScienceCal(Calculator):\n",
    "    def __init__(self):\n",
    "        pass\n",
    "\n",
    "    def sqrt(self, x):\n",
    "        return x**(1/2)"
   ]
  },
  {
   "cell_type": "code",
   "execution_count": 8,
   "id": "84d34e33-c9e5-4efe-bfde-09fe434c2ed4",
   "metadata": {},
   "outputs": [],
   "source": [
    "cal = ScienceCal()"
   ]
  },
  {
   "cell_type": "code",
   "execution_count": 9,
   "id": "bd6eceab-a861-4f3e-b863-ef709cecc515",
   "metadata": {},
   "outputs": [
    {
     "data": {
      "text/plain": [
       "3"
      ]
     },
     "execution_count": 9,
     "metadata": {},
     "output_type": "execute_result"
    }
   ],
   "source": [
    "cal.add(1, 2)"
   ]
  },
  {
   "cell_type": "code",
   "execution_count": 18,
   "id": "6b600d0a-c101-4a49-a9c1-c60623054dbf",
   "metadata": {},
   "outputs": [],
   "source": [
    "ori_cal = Calculator()\n",
    "new_cal = ScienceCal()"
   ]
  },
  {
   "cell_type": "code",
   "execution_count": 19,
   "id": "3dafe4f1-05b7-4720-8b93-fd648627957c",
   "metadata": {},
   "outputs": [
    {
     "data": {
      "text/plain": [
       "2.0"
      ]
     },
     "execution_count": 19,
     "metadata": {},
     "output_type": "execute_result"
    }
   ],
   "source": [
    "new_cal.sqrt(4)"
   ]
  },
  {
   "cell_type": "code",
   "execution_count": null,
   "id": "c9fe8a14-30a2-4de1-921a-9baf677e599b",
   "metadata": {},
   "outputs": [],
   "source": []
  }
 ],
 "metadata": {
  "kernelspec": {
   "display_name": "Python 3 (ipykernel)",
   "language": "python",
   "name": "python3"
  },
  "language_info": {
   "codemirror_mode": {
    "name": "ipython",
    "version": 3
   },
   "file_extension": ".py",
   "mimetype": "text/x-python",
   "name": "python",
   "nbconvert_exporter": "python",
   "pygments_lexer": "ipython3",
   "version": "3.13.0"
  }
 },
 "nbformat": 4,
 "nbformat_minor": 5
}

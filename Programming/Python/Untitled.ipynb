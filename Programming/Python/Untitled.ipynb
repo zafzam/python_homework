{
 "cells": [
  {
   "cell_type": "code",
   "execution_count": 4,
   "id": "3b0d66f3-87bb-4937-89b8-a6574d500b9a",
   "metadata": {},
   "outputs": [],
   "source": [
    "class Cat():\n",
    "    def __init__(self, name):\n",
    "        self.name = name\n",
    "    def eat(self):\n",
    "        print(\"{} is eating\".format(self.name))\n",
    "    def sleep(self):\n",
    "        print(\"{} is sleeping\".format(self.name)) "
   ]
  },
  {
   "cell_type": "code",
   "execution_count": 5,
   "id": "daaeb0f4-f534-482d-9f16-9a82a0f8cbd7",
   "metadata": {},
   "outputs": [],
   "source": [
    "cat = Cat(\"Title\")"
   ]
  },
  {
   "cell_type": "code",
   "execution_count": 6,
   "id": "e5908f09-8e88-4986-9e51-9da3a6ff5d51",
   "metadata": {},
   "outputs": [
    {
     "name": "stdout",
     "output_type": "stream",
     "text": [
      "Title is eating\n"
     ]
    }
   ],
   "source": [
    "cat.eat()"
   ]
  },
  {
   "cell_type": "code",
   "execution_count": 1,
   "id": "08fe62b9-24b1-41a0-be53-2be9a1fe6892",
   "metadata": {},
   "outputs": [],
   "source": [
    "class Student():\n",
    "    def __init__(self, name, stid, age):\n",
    "        self.__name = name\n",
    "        self.__stid = stid\n",
    "        self.__age = age\n",
    "    # @age.setter\n",
    "    def setAge(self, new_age):\n",
    "        if new_age > self.__age:\n",
    "            self.__age = new_age\n",
    "        else:\n",
    "            print(\"Error\")\n",
    "    def getAge(self):\n",
    "        return self.__age\n",
    "    def studentInfo(self):\n",
    "        print(\"{} : {} , age {}.\".format(self.__stid, self.__name, self.__age))"
   ]
  },
  {
   "cell_type": "code",
   "execution_count": 8,
   "id": "dd18864d-3957-44b2-97c2-9b85a51f87c7",
   "metadata": {},
   "outputs": [],
   "source": [
    "title = Student('Title', '1001', 19)"
   ]
  },
  {
   "cell_type": "code",
   "execution_count": 9,
   "id": "b4cf99fb-08c0-4c76-bbb1-04a5d7e644cb",
   "metadata": {},
   "outputs": [],
   "source": [
    "title.age =14"
   ]
  },
  {
   "cell_type": "code",
   "execution_count": 10,
   "id": "e86a72b1-91a7-4805-afd6-03176aea35d0",
   "metadata": {},
   "outputs": [
    {
     "name": "stdout",
     "output_type": "stream",
     "text": [
      "14\n"
     ]
    }
   ],
   "source": [
    "print(title.age)"
   ]
  },
  {
   "cell_type": "code",
   "execution_count": 22,
   "id": "f9e8b971-2400-4b68-b13e-1f33daebb6bd",
   "metadata": {},
   "outputs": [],
   "source": [
    "title.__age = 20"
   ]
  },
  {
   "cell_type": "code",
   "execution_count": 24,
   "id": "e73c0bab-c31a-44fd-8e4e-ffcaf41c0972",
   "metadata": {},
   "outputs": [
    {
     "name": "stdout",
     "output_type": "stream",
     "text": [
      "\n"
     ]
    }
   ],
   "source": [
    "print()"
   ]
  },
  {
   "cell_type": "code",
   "execution_count": 25,
   "id": "9883bbf2-2ba3-43c6-a6e0-5e4e1f32233b",
   "metadata": {},
   "outputs": [
    {
     "ename": "AttributeError",
     "evalue": "'Student' object has no attribute 'setAge'",
     "output_type": "error",
     "traceback": [
      "\u001b[1;31m---------------------------------------------------------------------------\u001b[0m",
      "\u001b[1;31mAttributeError\u001b[0m                            Traceback (most recent call last)",
      "Cell \u001b[1;32mIn[25], line 1\u001b[0m\n\u001b[1;32m----> 1\u001b[0m \u001b[43mtitle\u001b[49m\u001b[38;5;241;43m.\u001b[39;49m\u001b[43msetAge\u001b[49m(\u001b[38;5;241m20\u001b[39m)\n\u001b[0;32m      2\u001b[0m title\u001b[38;5;241m.\u001b[39mstudentInfo()\n",
      "\u001b[1;31mAttributeError\u001b[0m: 'Student' object has no attribute 'setAge'"
     ]
    }
   ],
   "source": [
    "title.setAge(20)\n",
    "title.studentInfo()"
   ]
  },
  {
   "cell_type": "code",
   "execution_count": 20,
   "id": "aec035ad-37a6-44ed-83cc-337f084bb8e3",
   "metadata": {},
   "outputs": [
    {
     "ename": "AttributeError",
     "evalue": "'Student' object has no attribute 'getAge'",
     "output_type": "error",
     "traceback": [
      "\u001b[1;31m---------------------------------------------------------------------------\u001b[0m",
      "\u001b[1;31mAttributeError\u001b[0m                            Traceback (most recent call last)",
      "Cell \u001b[1;32mIn[20], line 1\u001b[0m\n\u001b[1;32m----> 1\u001b[0m \u001b[43mtitle\u001b[49m\u001b[38;5;241;43m.\u001b[39;49m\u001b[43mgetAge\u001b[49m()\n",
      "\u001b[1;31mAttributeError\u001b[0m: 'Student' object has no attribute 'getAge'"
     ]
    }
   ],
   "source": [
    "title.getAge()"
   ]
  },
  {
   "cell_type": "code",
   "execution_count": 11,
   "id": "5def671a-4414-411a-a084-048695699dd5",
   "metadata": {},
   "outputs": [],
   "source": [
    "# Encapsulation\n",
    "# method"
   ]
  },
  {
   "cell_type": "code",
   "execution_count": null,
   "id": "182d0dfd-0f40-4a95-ab55-957674fc7ec5",
   "metadata": {},
   "outputs": [],
   "source": []
  },
  {
   "cell_type": "code",
   "execution_count": null,
   "id": "d470c6fb-6c8e-4c33-85b4-a0f288271d73",
   "metadata": {},
   "outputs": [],
   "source": []
  }
 ],
 "metadata": {
  "kernelspec": {
   "display_name": "Python 3 (ipykernel)",
   "language": "python",
   "name": "python3"
  },
  "language_info": {
   "codemirror_mode": {
    "name": "ipython",
    "version": 3
   },
   "file_extension": ".py",
   "mimetype": "text/x-python",
   "name": "python",
   "nbconvert_exporter": "python",
   "pygments_lexer": "ipython3",
   "version": "3.13.0"
  }
 },
 "nbformat": 4,
 "nbformat_minor": 5
}

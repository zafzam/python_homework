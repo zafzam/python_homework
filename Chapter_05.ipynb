{
 "cells": [
  {
   "cell_type": "markdown",
   "metadata": {},
   "source": [
    "# แบบฝึกหัด บทที่ 5 ตัวแปรและประเภทข้อมูล"
   ]
  },
  {
   "cell_type": "code",
   "execution_count": null,
   "metadata": {},
   "outputs": [],
   "source": [
    "\"\"\"\n",
    "ชื่อ - สกุล - รหัส\n",
    "\n",
    "\n",
    "\"\"\""
   ]
  },
  {
   "cell_type": "markdown",
   "metadata": {},
   "source": [
    "## 1.\tประเภทของตัวเลขที่ภาษาไพธอนให้การรองรับมีอะไรบ้าง"
   ]
  },
  {
   "cell_type": "code",
   "execution_count": null,
   "metadata": {},
   "outputs": [],
   "source": [
    "\"\"\"\n",
    "Type int(x)\n",
    "Type float(x)\n",
    "Type complex(x)\n",
    "Type complex(x, y)\n",
    "\"\"\"\n",
    "\n"
   ]
  },
  {
   "cell_type": "markdown",
   "metadata": {},
   "source": [
    "## 2.จงแสดงชนิดข้อมูลของตัวแปร a และ b"
   ]
  },
  {
   "cell_type": "code",
   "execution_count": null,
   "metadata": {},
   "outputs": [],
   "source": [
    "\"\"\"\n",
    "a = 15.50\n",
    "b = ‘Python’ \n",
    "จงแสดงชนิดข้อมูลของตัวแปร a และ b\n",
    "\"\"\""
   ]
  },
  {
   "cell_type": "code",
   "execution_count": 5,
   "metadata": {},
   "outputs": [
    {
     "name": "stdout",
     "output_type": "stream",
     "text": [
      "15.5 Python\n"
     ]
    }
   ],
   "source": [
    "\"\"\"\n",
    "a = 15.50 ---- เป็น float\n",
    "b = 'Python' ---- เป็น String\n",
    "\"\"\""
   ]
  },
  {
   "cell_type": "markdown",
   "metadata": {},
   "source": [
    "## 3.จงใช้คำสั่ง print() เพื่อแสดงสตริงต่อไปนี้\n",
    "\n",
    "- Jane's teacher says \"You have to study hard\" –"
   ]
  },
  {
   "cell_type": "code",
   "execution_count": 9,
   "metadata": {},
   "outputs": [
    {
     "name": "stdout",
     "output_type": "stream",
     "text": [
      "Jane's teacher says , \"You have to study hard\"\n"
     ]
    }
   ],
   "source": [
    "\n",
    "\n",
    "print('Jane\\'s teacher says , \"You have to study hard\"')\n"
   ]
  },
  {
   "cell_type": "markdown",
   "metadata": {},
   "source": [
    "## 4.\tจงแสดงผลลัพธ์ของคำสั่งต่อไปนี้ "
   ]
  },
  {
   "cell_type": "code",
   "execution_count": null,
   "metadata": {},
   "outputs": [],
   "source": [
    "\"\"\"\n",
    "print(\"{2} {0} {1}\".format(\"apple\", \n",
    "         \"pineapple\", \n",
    "         \"banana\"))\n",
    "\"\"\""
   ]
  },
  {
   "cell_type": "code",
   "execution_count": 10,
   "metadata": {},
   "outputs": [
    {
     "name": "stdout",
     "output_type": "stream",
     "text": [
      "banana apple pineapple\n"
     ]
    }
   ],
   "source": [
    "print(\"{2} {0} {1}\".format(\"apple\", \n",
    "         \"pineapple\", \n",
    "         \"banana\"))"
   ]
  },
  {
   "cell_type": "markdown",
   "metadata": {},
   "source": [
    "## 5. กำหนดให้ตัวแปร "
   ]
  },
  {
   "cell_type": "code",
   "execution_count": null,
   "metadata": {},
   "outputs": [],
   "source": [
    "\"\"\"\n",
    "pi = 3.141592653589\n",
    "จงแสดงค่าของตัวแปร pi ออกทางหน้าจอให้มีทศนิยมเพียง 3 จุด\n",
    "\"\"\""
   ]
  },
  {
   "cell_type": "code",
   "execution_count": 19,
   "metadata": {},
   "outputs": [
    {
     "name": "stdout",
     "output_type": "stream",
     "text": [
      "3.142\n"
     ]
    }
   ],
   "source": [
    "pi = 3.141592653589\n",
    "print(f\"{pi:.3f}\")"
   ]
  },
  {
   "cell_type": "markdown",
   "metadata": {},
   "source": [
    "## 6.กำหนดให้ \n",
    "\n",
    "str = \"Python Programming\"\n",
    "\n",
    "จงหาผลลัพธ์ของ str[7:]\n"
   ]
  },
  {
   "cell_type": "code",
   "execution_count": 20,
   "metadata": {},
   "outputs": [
    {
     "name": "stdout",
     "output_type": "stream",
     "text": [
      "Programming\n"
     ]
    }
   ],
   "source": [
    "str = \"Python Programming\"\n",
    "\n",
    "print(str[7:])"
   ]
  },
  {
   "cell_type": "markdown",
   "metadata": {},
   "source": [
    "## 7.จงอธิบายความแตกต่างระหว่างลิสต์และทัพเพิล"
   ]
  },
  {
   "cell_type": "code",
   "execution_count": null,
   "metadata": {},
   "outputs": [],
   "source": [
    "\"\"\"\n",
    "ความแตกต่างระหว่างของทั้งสอง คือการที่เราไม่สามารถเปลี่ยนแปลงข้อมูลสมาชิกของ Tuple ได้ ซึ่งแตกต่างกับ List ที่สามารถเปลี่ยนแปลงค่าข้อมูลสมาชิกภายใน List ได้ตลอดเวลา\n",
    "\"\"\"\n"
   ]
  },
  {
   "cell_type": "code",
   "execution_count": null,
   "metadata": {},
   "outputs": [],
   "source": []
  }
 ],
 "metadata": {
  "interpreter": {
   "hash": "40d3a090f54c6569ab1632332b64b2c03c39dcf918b08424e98f38b5ae0af88f"
  },
  "kernelspec": {
   "display_name": "Python 3 (ipykernel)",
   "language": "python",
   "name": "python3"
  },
  "language_info": {
   "codemirror_mode": {
    "name": "ipython",
    "version": 3
   },
   "file_extension": ".py",
   "mimetype": "text/x-python",
   "name": "python",
   "nbconvert_exporter": "python",
   "pygments_lexer": "ipython3",
   "version": "3.13.0"
  }
 },
 "nbformat": 4,
 "nbformat_minor": 4
}
